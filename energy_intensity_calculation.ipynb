{
 "cells": [
  {
   "cell_type": "markdown",
   "metadata": {},
   "source": [
    "## Energy intensity calculation for the `Raw` data-sheet\n",
    "\n",
    "The Energy Intensity calculations/formulas weren't included in the xlxs file, so this is an attempt to replicate those numbers (at least the values in the `Raw` tables).\n",
    "\n",
    "First, the total energy consumed is calculated according to the formula:\n",
    "\n",
    "$E_{\\mathrm{total}} = \\mathrm{Electricity} + \\mathrm{Natural\\,Gas}\\times\\beta_1 + \\mathrm{Fuel}\\times\\beta_2 + ... $\n",
    "\n",
    "where $\\beta_i$ are coefficients that convert the energy source into units of `equivalant kilo-watt hours` (ekWh). See Table 1 in https://www.nrcan.gc.ca/energy/publications/efficiency/buildings/5985\n",
    "\n",
    "Next, the total energy consumed is divided by either the `Total Floor Area` (in the case of buildings) or by the `Annual Flow`, for water treatment facilities.\n",
    "\n",
    "$\\mathrm{Energy\\,Intensity} = E_{\\mathrm{total}}/\\mathrm{Total\\,Floor\\,Area}$\n",
    "\n",
    "or\n",
    "\n",
    "$\\mathrm{Energy\\,Intensity} = E_{\\mathrm{total}}/\\mathrm{Annual\\,Flow}$"
   ]
  },
  {
   "cell_type": "code",
   "execution_count": 1,
   "metadata": {
    "collapsed": true
   },
   "outputs": [],
   "source": [
    "import pandas as pd\n",
    "import numpy as np"
   ]
  },
  {
   "cell_type": "markdown",
   "metadata": {},
   "source": [
    "Function to perform the Energy Intensity calculation, also taking care of the unit conversions:"
   ]
  },
  {
   "cell_type": "code",
   "execution_count": 236,
   "metadata": {
    "collapsed": false
   },
   "outputs": [],
   "source": [
    "def calculate_energy_intensity(row):\n",
    "    def zero_nulls(x):\n",
    "        if pd.isnull(x):\n",
    "            return 0\n",
    "        else:\n",
    "            return x\n",
    "    \n",
    "    #calculate the equivalant kilo watt hours\n",
    "    ekWh  = (1.0)     * zero_nulls(row['Electricity'])\n",
    "    ekWh += (10.6273) * zero_nulls(row['Natural Gas'])\n",
    "    ekWh += (10.74)   * zero_nulls(row['Fuel Oil 1 & 2'])\n",
    "    ekWh += (11.25)   * zero_nulls(row['Fuel Oil 4 & 6'])\n",
    "    ekWh += (7.09)    * zero_nulls(row['Propane'])\n",
    "    ekWh += (3876.7)  * zero_nulls(row['Wood'])\n",
    "\n",
    "    #Facilities related to the treatment of water\n",
    "    if row['Annual Flow'] > 0:\n",
    "        ekWh_per_ML = ekWh/row['Annual Flow']\n",
    "        GJ_per_ML   = ekWh_per_ML * 0.0036  #0.0036 GJ/ekWh\n",
    "        return GJ_per_ML, ekWh_per_ML\n",
    "\n",
    "    #Calculation per square footage\n",
    "    \n",
    "    sqft = 0\n",
    "    if row['Unit1'] in ['Square feet','Square Feet','square feet',u'pieds carrés',u'Pieds carrés','Sq Ft']:\n",
    "        sqft = row['Total Floor Area']\n",
    "    elif row['Unit1'] in ['Square meters','square meters','Square Meters']:\n",
    "        sqft = row['Total Floor Area'] * 10.7639\n",
    "    \n",
    "    if sqft > 0:\n",
    "        ekWh_per_sqft = ekWh/sqft\n",
    "        GJ_per_m2 = ekWh_per_sqft * 0.0036/0.092903 #0.0036 GJ/ekWh, and 0.092903 m2/sqft\n",
    "        return ekWh_per_sqft, GJ_per_m2\n",
    "    else:\n",
    "        return None, None"
   ]
  },
  {
   "cell_type": "code",
   "execution_count": 71,
   "metadata": {
    "collapsed": true
   },
   "outputs": [],
   "source": [
    "excel_file = pd.ExcelFile('bps_energy_consumption_2011_2012.xlsx', encoding='utf-8')\n",
    "raw_2011 = excel_file.parse('2011 Raw')"
   ]
  },
  {
   "cell_type": "markdown",
   "metadata": {},
   "source": [
    "##Examples:\n",
    "\n",
    "A record with `Electricity`, `Natural Gas`, and `Total Floor Area` values:"
   ]
  },
  {
   "cell_type": "code",
   "execution_count": 141,
   "metadata": {
    "collapsed": false
   },
   "outputs": [
    {
     "data": {
      "text/plain": [
       "Organization Name                                                 Alexandra Hospital\n",
       "Sector Name                                                          Public Hospital\n",
       "SubSector Name                                                         Acute/Chronic\n",
       "Operation Name                                                    Alexandra Hospital\n",
       "Operation Type                         Administrative offices and related facilities\n",
       "Address                                                              29 Noxon Street\n",
       "City                                                                       Ingersoll\n",
       "ZIP/Postal Code                                                              N5C 3V6\n",
       "Total Floor Area                                                              3813.3\n",
       "Unit1                                                                  Square meters\n",
       "Annual Flow                                                                      NaN\n",
       "Average Hours Per Week                                                            40\n",
       "Electricity                                                                 911262.2\n",
       "Unit2                                                                            kWh\n",
       "Natural Gas                                                                 202449.6\n",
       "Unit3                                                                    Cubic meter\n",
       "Fuel Oil 1 & 2                                                                   NaN\n",
       "Unit4                                                                            NaN\n",
       "Fuel Oil 4 & 6                                                                   NaN\n",
       "Unit5                                                                            NaN\n",
       "Propane                                                                          NaN\n",
       "Unit6                                                                            NaN\n",
       "Coal                                                                             NaN\n",
       "Unit7                                                                            NaN\n",
       "Wood                                                                             NaN\n",
       "Unit8                                                                            NaN\n",
       "District Heat                                                                    NaN\n",
       "Unit9                                                                            NaN\n",
       "Renewable1                                                                         0\n",
       "Emission Factor1                                                                 NaN\n",
       "District Cool                                                                    NaN\n",
       "Unit10                                                                           NaN\n",
       "Renewable2                                                                         0\n",
       "Emission Factor2                                                                 NaN\n",
       "Swimming Pool                                                                      0\n",
       "Number of Portables                                                              NaN\n",
       "GHG Emissions(Kg)                                                           472096.8\n",
       "Energy Intensity (GJ/Mega Litres)                                                NaN\n",
       "Energy Intensity (ekWh/sqft)                                                74.61751\n",
       "Energy Intensity (GJ/m2)                                                    2.891528\n",
       "Energy Intensity (ekWh/Mega Litres)                                              NaN\n",
       "Name: 2367, dtype: object"
      ]
     },
     "execution_count": 141,
     "metadata": {},
     "output_type": "execute_result"
    }
   ],
   "source": [
    "raw_2011.ix[2367]"
   ]
  },
  {
   "cell_type": "markdown",
   "metadata": {},
   "source": [
    "Results of the calculation: 74.6 ekWh/sqft, and 2.89 GJ/m2:"
   ]
  },
  {
   "cell_type": "code",
   "execution_count": 235,
   "metadata": {
    "collapsed": false
   },
   "outputs": [
    {
     "data": {
      "text/plain": [
       "(74.617655462978234, 2.8914411769988226)"
      ]
     },
     "execution_count": 235,
     "metadata": {},
     "output_type": "execute_result"
    }
   ],
   "source": [
    "calculate_energy_intensity(raw_2011.ix[2367])"
   ]
  },
  {
   "cell_type": "markdown",
   "metadata": {},
   "source": [
    "Now an example with `Annual Flow`:"
   ]
  },
  {
   "cell_type": "code",
   "execution_count": 242,
   "metadata": {
    "collapsed": false
   },
   "outputs": [
    {
     "data": {
      "text/plain": [
       "Organization Name                                    Regional Municipality of Durham\n",
       "Sector Name                                                                Municipal\n",
       "SubSector Name                                                          Municipality\n",
       "Operation Name                                                     Duffin Creek WPCP\n",
       "Operation Type                         Facilities related to the treatment of sewage\n",
       "Address                                                                901 McKay Rd.\n",
       "City                                                                       Pickering\n",
       "ZIP/Postal Code                                                              L1W 3A3\n",
       "Total Floor Area                                                                 NaN\n",
       "Unit1                                                                            NaN\n",
       "Annual Flow                                                                 123041.8\n",
       "Average Hours Per Week                                                           168\n",
       "Electricity                                                             5.903492e+07\n",
       "Unit2                                                                            kWh\n",
       "Natural Gas                                                                  4806585\n",
       "Unit3                                                                    Cubic meter\n",
       "Fuel Oil 1 & 2                                                               2237462\n",
       "Unit4                                                                          Litre\n",
       "Fuel Oil 4 & 6                                                                   NaN\n",
       "Unit5                                                                            NaN\n",
       "Propane                                                                          NaN\n",
       "Unit6                                                                            NaN\n",
       "Coal                                                                             NaN\n",
       "Unit7                                                                            NaN\n",
       "Wood                                                                             NaN\n",
       "Unit8                                                                            NaN\n",
       "District Heat                                                                    NaN\n",
       "Unit9                                                                            NaN\n",
       "Renewable1                                                                         0\n",
       "Emission Factor1                                                                 NaN\n",
       "District Cool                                                                    NaN\n",
       "Unit10                                                                           NaN\n",
       "Renewable2                                                                         0\n",
       "Emission Factor2                                                                 NaN\n",
       "Swimming Pool                                                                      0\n",
       "Number of Portables                                                              NaN\n",
       "GHG Emissions(Kg)                                                       2.097771e+07\n",
       "Energy Intensity (GJ/Mega Litres)                                           3.927439\n",
       "Energy Intensity (ekWh/sqft)                                                     NaN\n",
       "Energy Intensity (GJ/m2)                                                         NaN\n",
       "Energy Intensity (ekWh/Mega Litres)                                         1090.955\n",
       "Name: 19, dtype: object"
      ]
     },
     "execution_count": 242,
     "metadata": {},
     "output_type": "execute_result"
    }
   ],
   "source": [
    "raw_2011.ix[19]"
   ]
  },
  {
   "cell_type": "markdown",
   "metadata": {},
   "source": [
    "The calculation gives 3.92 GJ/Mega Litres and 1090.2 ekWh/Mega Litres:"
   ]
  },
  {
   "cell_type": "code",
   "execution_count": 243,
   "metadata": {
    "collapsed": false
   },
   "outputs": [
    {
     "data": {
      "text/plain": [
       "(3.9248987284349264, 1090.2496467874796)"
      ]
     },
     "execution_count": 243,
     "metadata": {},
     "output_type": "execute_result"
    }
   ],
   "source": [
    "calculate_energy_intensity(raw_2011.ix[19])"
   ]
  }
 ],
 "metadata": {
  "kernelspec": {
   "display_name": "Python 2",
   "language": "python",
   "name": "python2"
  },
  "language_info": {
   "codemirror_mode": {
    "name": "ipython",
    "version": 2
   },
   "file_extension": ".py",
   "mimetype": "text/x-python",
   "name": "python",
   "nbconvert_exporter": "python",
   "pygments_lexer": "ipython2",
   "version": "2.7.6"
  }
 },
 "nbformat": 4,
 "nbformat_minor": 0
}
